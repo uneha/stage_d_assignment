{
 "cells": [
  {
   "cell_type": "code",
   "execution_count": 1,
   "id": "599b1642",
   "metadata": {},
   "outputs": [],
   "source": [
    "import pandas as pd"
   ]
  },
  {
   "cell_type": "code",
   "execution_count": 2,
   "id": "2771518f",
   "metadata": {},
   "outputs": [],
   "source": [
    "import numpy as np"
   ]
  },
  {
   "cell_type": "code",
   "execution_count": 3,
   "id": "6831797f",
   "metadata": {},
   "outputs": [],
   "source": [
    "import matplotlib.pyplot as plt"
   ]
  },
  {
   "cell_type": "code",
   "execution_count": 4,
   "id": "2de641fb",
   "metadata": {},
   "outputs": [],
   "source": [
    "import tabula"
   ]
  },
  {
   "cell_type": "code",
   "execution_count": 5,
   "id": "15e4c3ac",
   "metadata": {},
   "outputs": [],
   "source": [
    "tabula.convert_into(r\"C:\\Users\\USER\\Downloads\\supply.pdf\",\"demo.csv\",pages = 'all',output_format = \"csv\")"
   ]
  },
  {
   "cell_type": "code",
   "execution_count": 6,
   "id": "8561ad58",
   "metadata": {},
   "outputs": [],
   "source": [
    "supply = pd.read_csv(\"demo.csv\")"
   ]
  },
  {
   "cell_type": "code",
   "execution_count": 7,
   "id": "58cb5a24",
   "metadata": {},
   "outputs": [],
   "source": [
    "tabula.convert_into(r\"C:\\Users\\USER\\Downloads\\production.pdf\",\"demo2.csv\",pages = 'all',output_format = \"csv\")"
   ]
  },
  {
   "cell_type": "code",
   "execution_count": 8,
   "id": "8dc25f1f",
   "metadata": {},
   "outputs": [],
   "source": [
    "production = pd.read_csv(\"demo2.csv\")"
   ]
  },
  {
   "cell_type": "code",
   "execution_count": 9,
   "id": "ae3ba9f4",
   "metadata": {},
   "outputs": [],
   "source": [
    "pdf = production.copy()"
   ]
  },
  {
   "cell_type": "code",
   "execution_count": 10,
   "id": "561e8c7a",
   "metadata": {},
   "outputs": [],
   "source": [
    "sdf = supply.copy()"
   ]
  },
  {
   "cell_type": "code",
   "execution_count": 11,
   "id": "c491a024",
   "metadata": {},
   "outputs": [],
   "source": [
    "p_q1 = production['Value'].quantile(0.25)"
   ]
  },
  {
   "cell_type": "code",
   "execution_count": 12,
   "id": "946a5014",
   "metadata": {},
   "outputs": [],
   "source": [
    "p_q3 = production['Value'].quantile(0.75)"
   ]
  },
  {
   "cell_type": "code",
   "execution_count": 13,
   "id": "d9902981",
   "metadata": {},
   "outputs": [],
   "source": [
    "p_iqr = p_q3 - p_q1"
   ]
  },
  {
   "cell_type": "code",
   "execution_count": 14,
   "id": "752b6caa",
   "metadata": {},
   "outputs": [],
   "source": [
    "P_upperbound = p_q3 + 1.5*p_iqr"
   ]
  },
  {
   "cell_type": "code",
   "execution_count": 15,
   "id": "fc65f245",
   "metadata": {},
   "outputs": [],
   "source": [
    "P_lowerbound = p_q1 - 1.5*p_iqr"
   ]
  },
  {
   "cell_type": "code",
   "execution_count": 16,
   "id": "6f3bb4f1",
   "metadata": {},
   "outputs": [],
   "source": [
    "s_q1 = supply['Value'].quantile(0.25)\n",
    "s_q3 = supply['Value'].quantile(0.75)\n",
    "s_iqr = s_q3 - s_q1\n",
    "s_upperbound = s_q3 + 1.5*s_iqr\n",
    "s_lowerbound = s_q3 - 1.5*s_iqr"
   ]
  },
  {
   "cell_type": "code",
   "execution_count": 18,
   "id": "d176d294",
   "metadata": {},
   "outputs": [
    {
     "data": {
      "text/plain": [
       "327.7852012115967"
      ]
     },
     "execution_count": 18,
     "metadata": {},
     "output_type": "execute_result"
    }
   ],
   "source": [
    "pdf[\"Value\"].mean()"
   ]
  },
  {
   "cell_type": "code",
   "execution_count": 19,
   "id": "85cf04cb",
   "metadata": {},
   "outputs": [
    {
     "data": {
      "text/plain": [
       "18.0"
      ]
     },
     "execution_count": 19,
     "metadata": {},
     "output_type": "execute_result"
    }
   ],
   "source": [
    "pdf[\"Value\"].median()"
   ]
  },
  {
   "cell_type": "code",
   "execution_count": 93,
   "id": "726dfe72",
   "metadata": {},
   "outputs": [
    {
     "data": {
      "text/plain": [
       "3.0"
      ]
     },
     "execution_count": 93,
     "metadata": {},
     "output_type": "execute_result"
    }
   ],
   "source": [
    "p_q1 "
   ]
  },
  {
   "cell_type": "code",
   "execution_count": 94,
   "id": "5159cea5",
   "metadata": {},
   "outputs": [
    {
     "data": {
      "text/plain": [
       "108.0"
      ]
     },
     "execution_count": 94,
     "metadata": {},
     "output_type": "execute_result"
    }
   ],
   "source": [
    "p_q3"
   ]
  },
  {
   "cell_type": "code",
   "execution_count": 96,
   "id": "ea40df7e",
   "metadata": {},
   "outputs": [
    {
     "data": {
      "text/plain": [
       "105.0"
      ]
     },
     "execution_count": 96,
     "metadata": {},
     "output_type": "execute_result"
    }
   ],
   "source": [
    "p_iqr #IQR of production(Value) data"
   ]
  },
  {
   "cell_type": "code",
   "execution_count": 98,
   "id": "a54af264",
   "metadata": {},
   "outputs": [
    {
     "data": {
      "text/plain": [
       "-154.5"
      ]
     },
     "execution_count": 98,
     "metadata": {},
     "output_type": "execute_result"
    }
   ],
   "source": [
    "P_lowerbound"
   ]
  },
  {
   "cell_type": "code",
   "execution_count": 99,
   "id": "8253934a",
   "metadata": {},
   "outputs": [
    {
     "data": {
      "text/plain": [
       "265.5"
      ]
     },
     "execution_count": 99,
     "metadata": {},
     "output_type": "execute_result"
    }
   ],
   "source": [
    "P_upperbound"
   ]
  },
  {
   "cell_type": "code",
   "execution_count": 100,
   "id": "3c285609",
   "metadata": {},
   "outputs": [
    {
     "data": {
      "text/plain": [
       "2177.0"
      ]
     },
     "execution_count": 100,
     "metadata": {},
     "output_type": "execute_result"
    }
   ],
   "source": [
    "s_q1"
   ]
  },
  {
   "cell_type": "code",
   "execution_count": 101,
   "id": "1c9c4412",
   "metadata": {},
   "outputs": [
    {
     "data": {
      "text/plain": [
       "2682.0"
      ]
     },
     "execution_count": 101,
     "metadata": {},
     "output_type": "execute_result"
    }
   ],
   "source": [
    "s_q3"
   ]
  },
  {
   "cell_type": "code",
   "execution_count": 102,
   "id": "e27276b4",
   "metadata": {},
   "outputs": [
    {
     "data": {
      "text/plain": [
       "505.0"
      ]
     },
     "execution_count": 102,
     "metadata": {},
     "output_type": "execute_result"
    }
   ],
   "source": [
    "s_iqr #IQR of supply value"
   ]
  },
  {
   "cell_type": "code",
   "execution_count": 103,
   "id": "70e565d3",
   "metadata": {},
   "outputs": [
    {
     "data": {
      "text/plain": [
       "3439.5"
      ]
     },
     "execution_count": 103,
     "metadata": {},
     "output_type": "execute_result"
    }
   ],
   "source": [
    "s_upperbound"
   ]
  },
  {
   "cell_type": "code",
   "execution_count": 105,
   "id": "4bb20689",
   "metadata": {},
   "outputs": [
    {
     "data": {
      "text/plain": [
       "1924.5"
      ]
     },
     "execution_count": 105,
     "metadata": {},
     "output_type": "execute_result"
    }
   ],
   "source": [
    "s_lowerbound"
   ]
  },
  {
   "cell_type": "code",
   "execution_count": 26,
   "id": "4ad153fa",
   "metadata": {},
   "outputs": [],
   "source": [
    "p_plot = pdf.groupby(\"Country\").sum()"
   ]
  },
  {
   "cell_type": "code",
   "execution_count": 28,
   "id": "ddedb160",
   "metadata": {},
   "outputs": [],
   "source": [
    "p_plot = p_plot.reset_index()"
   ]
  },
  {
   "cell_type": "code",
   "execution_count": 35,
   "id": "1c6dbf65",
   "metadata": {},
   "outputs": [
    {
     "data": {
      "image/png": "[encoded data removed]",
      "text/plain": [
       "<Figure size 432x288 with 1 Axes>"
      ]
     },
     "metadata": {
      "needs_background": "light"
     },
     "output_type": "display_data"
    }
   ],
   "source": [
    "production_boxplot = pdf[pdf[\"Country\"]==\"Algeria\"].boxplot()"
   ]
  },
  {
   "cell_type": "code",
   "execution_count": 33,
   "id": "b69c66ea",
   "metadata": {},
   "outputs": [
    {
     "data": {
      "text/plain": [
       "<AxesSubplot:>"
      ]
     },
     "execution_count": 33,
     "metadata": {},
     "output_type": "execute_result"
    },
    {
     "data": {
      "image/png": "[encoded data removed]",
      "text/plain": [
       "<Figure size 432x288 with 1 Axes>"
      ]
     },
     "metadata": {
      "needs_background": "light"
     },
     "output_type": "display_data"
    }
   ],
   "source": [
    "sdf.boxplot()"
   ]
  },
  {
   "cell_type": "code",
   "execution_count": 36,
   "id": "aabb6192",
   "metadata": {},
   "outputs": [
    {
     "data": {
      "text/plain": [
       "<AxesSubplot:>"
      ]
     },
     "execution_count": 36,
     "metadata": {},
     "output_type": "execute_result"
    },
    {
     "data": {
      "image/png": "[encoded data removed]",
      "text/plain": [
       "<Figure size 720x720 with 1 Axes>"
      ]
     },
     "metadata": {
      "needs_background": "light"
     },
     "output_type": "display_data"
    }
   ],
   "source": [
    "p_plot.boxplot(figsize = (10,10))"
   ]
  },
  {
   "cell_type": "code",
   "execution_count": 47,
   "id": "0525f03a",
   "metadata": {},
   "outputs": [],
   "source": [
    "s_plot = sdf[[\"Country\",\"Value\"]].groupby(\"Country\").sum() "
   ]
  },
  {
   "cell_type": "code",
   "execution_count": 50,
   "id": "4e6ccaa4",
   "metadata": {},
   "outputs": [],
   "source": [
    "s_plot = s_plot.reset_index()"
   ]
  },
  {
   "cell_type": "code",
   "execution_count": 54,
   "id": "0e38b9dd",
   "metadata": {},
   "outputs": [
    {
     "data": {
      "text/plain": [
       "<AxesSubplot:xlabel='Country'>"
      ]
     },
     "execution_count": 54,
     "metadata": {},
     "output_type": "execute_result"
    },
    {
     "data": {
      "image/png": "[encoded data removed]",
      "text/plain": [
       "<Figure size 432x288 with 1 Axes>"
      ]
     },
     "metadata": {
      "needs_background": "light"
     },
     "output_type": "display_data"
    }
   ],
   "source": [
    "s_plot.plot.line(x = 'Country',y = 'Value')"
   ]
  },
  {
   "cell_type": "code",
   "execution_count": 56,
   "id": "4335ab91",
   "metadata": {},
   "outputs": [
    {
     "data": {
      "text/plain": [
       "<AxesSubplot:xlabel='Country'>"
      ]
     },
     "execution_count": 56,
     "metadata": {},
     "output_type": "execute_result"
    },
    {
     "data": {
      "image/png": "[encoded data removed]",
      "text/plain": [
       "<Figure size 432x288 with 1 Axes>"
      ]
     },
     "metadata": {
      "needs_background": "light"
     },
     "output_type": "display_data"
    }
   ],
   "source": [
    "p_plot.plot.line(x = 'Country',y = 'Value')"
   ]
  },
  {
   "cell_type": "code",
   "execution_count": 71,
   "id": "64eeaaeb",
   "metadata": {},
   "outputs": [],
   "source": [
    "pdf[\"Year\"] = pdf[\"Year\"].replace([\")2004\",\")2005\",\")2006\",\")2007\",\")2008\",\")2009\",\")2010\",\")2011\",\")2012\",\")2013\"],[\"2004\",\"2005\",\"2006\",\"2007\",\"2008\",\"2009\",\"2010\",\"2011\",\"2012\",\"2013\"])"
   ]
  },
  {
   "cell_type": "code",
   "execution_count": 72,
   "id": "b7f142ce",
   "metadata": {},
   "outputs": [],
   "source": [
    "s_plot2 = sdf.groupby(\"Year\").sum()\n",
    "p_plot2 = pdf.groupby(\"Year\").sum() "
   ]
  },
  {
   "cell_type": "code",
   "execution_count": 73,
   "id": "45839171",
   "metadata": {},
   "outputs": [
    {
     "data": {
      "text/html": [
       "<div>\n",
       "<style scoped>\n",
       "    .dataframe tbody tr th:only-of-type {\n",
       "        vertical-align: middle;\n",
       "    }\n",
       "\n",
       "    .dataframe tbody tr th {\n",
       "        vertical-align: top;\n",
       "    }\n",
       "\n",
       "    .dataframe thead th {\n",
       "        text-align: right;\n",
       "    }\n",
       "</style>\n",
       "<table border=\"1\" class=\"dataframe\">\n",
       "  <thead>\n",
       "    <tr style=\"text-align: right;\">\n",
       "      <th></th>\n",
       "      <th>Value</th>\n",
       "    </tr>\n",
       "    <tr>\n",
       "      <th>Year</th>\n",
       "      <th></th>\n",
       "    </tr>\n",
       "  </thead>\n",
       "  <tbody>\n",
       "    <tr>\n",
       "      <th>2004</th>\n",
       "      <td>107740</td>\n",
       "    </tr>\n",
       "    <tr>\n",
       "      <th>2005</th>\n",
       "      <td>108418</td>\n",
       "    </tr>\n",
       "    <tr>\n",
       "      <th>2006</th>\n",
       "      <td>109386</td>\n",
       "    </tr>\n",
       "    <tr>\n",
       "      <th>2007</th>\n",
       "      <td>110149</td>\n",
       "    </tr>\n",
       "    <tr>\n",
       "      <th>2008</th>\n",
       "      <td>110734</td>\n",
       "    </tr>\n",
       "    <tr>\n",
       "      <th>2009</th>\n",
       "      <td>111700</td>\n",
       "    </tr>\n",
       "    <tr>\n",
       "      <th>2010</th>\n",
       "      <td>112383</td>\n",
       "    </tr>\n",
       "    <tr>\n",
       "      <th>2011</th>\n",
       "      <td>113194</td>\n",
       "    </tr>\n",
       "    <tr>\n",
       "      <th>2012</th>\n",
       "      <td>113744</td>\n",
       "    </tr>\n",
       "    <tr>\n",
       "      <th>2013</th>\n",
       "      <td>111841</td>\n",
       "    </tr>\n",
       "  </tbody>\n",
       "</table>\n",
       "</div>"
      ],
      "text/plain": [
       "       Value\n",
       "Year        \n",
       "2004  107740\n",
       "2005  108418\n",
       "2006  109386\n",
       "2007  110149\n",
       "2008  110734\n",
       "2009  111700\n",
       "2010  112383\n",
       "2011  113194\n",
       "2012  113744\n",
       "2013  111841"
      ]
     },
     "execution_count": 73,
     "metadata": {},
     "output_type": "execute_result"
    }
   ],
   "source": [
    "s_plot2"
   ]
  },
  {
   "cell_type": "code",
   "execution_count": 74,
   "id": "b67b1f54",
   "metadata": {},
   "outputs": [
    {
     "data": {
      "text/html": [
       "<div>\n",
       "<style scoped>\n",
       "    .dataframe tbody tr th:only-of-type {\n",
       "        vertical-align: middle;\n",
       "    }\n",
       "\n",
       "    .dataframe tbody tr th {\n",
       "        vertical-align: top;\n",
       "    }\n",
       "\n",
       "    .dataframe thead th {\n",
       "        text-align: right;\n",
       "    }\n",
       "</style>\n",
       "<table border=\"1\" class=\"dataframe\">\n",
       "  <thead>\n",
       "    <tr style=\"text-align: right;\">\n",
       "      <th></th>\n",
       "      <th>Value</th>\n",
       "    </tr>\n",
       "    <tr>\n",
       "      <th>Year</th>\n",
       "      <th></th>\n",
       "    </tr>\n",
       "  </thead>\n",
       "  <tbody>\n",
       "    <tr>\n",
       "      <th>2004</th>\n",
       "      <td>663006</td>\n",
       "    </tr>\n",
       "    <tr>\n",
       "      <th>2005</th>\n",
       "      <td>691257</td>\n",
       "    </tr>\n",
       "    <tr>\n",
       "      <th>2006</th>\n",
       "      <td>718602</td>\n",
       "    </tr>\n",
       "    <tr>\n",
       "      <th>2007</th>\n",
       "      <td>705659</td>\n",
       "    </tr>\n",
       "    <tr>\n",
       "      <th>2008</th>\n",
       "      <td>736804</td>\n",
       "    </tr>\n",
       "    <tr>\n",
       "      <th>2009</th>\n",
       "      <td>746870</td>\n",
       "    </tr>\n",
       "    <tr>\n",
       "      <th>2010</th>\n",
       "      <td>786466</td>\n",
       "    </tr>\n",
       "    <tr>\n",
       "      <th>2011</th>\n",
       "      <td>812214</td>\n",
       "    </tr>\n",
       "    <tr>\n",
       "      <th>2012</th>\n",
       "      <td>846272</td>\n",
       "    </tr>\n",
       "    <tr>\n",
       "      <th>2013</th>\n",
       "      <td>867966</td>\n",
       "    </tr>\n",
       "  </tbody>\n",
       "</table>\n",
       "</div>"
      ],
      "text/plain": [
       "       Value\n",
       "Year        \n",
       "2004  663006\n",
       "2005  691257\n",
       "2006  718602\n",
       "2007  705659\n",
       "2008  736804\n",
       "2009  746870\n",
       "2010  786466\n",
       "2011  812214\n",
       "2012  846272\n",
       "2013  867966"
      ]
     },
     "execution_count": 74,
     "metadata": {},
     "output_type": "execute_result"
    }
   ],
   "source": [
    "p_plot2"
   ]
  },
  {
   "cell_type": "code",
   "execution_count": 75,
   "id": "b9250892",
   "metadata": {},
   "outputs": [],
   "source": [
    "s_plot2 = s_plot2.reset_index()"
   ]
  },
  {
   "cell_type": "code",
   "execution_count": 76,
   "id": "1c24a9e2",
   "metadata": {},
   "outputs": [],
   "source": [
    "p_plot2 = p_plot2.reset_index()"
   ]
  },
  {
   "cell_type": "code",
   "execution_count": 80,
   "id": "f521dfe8",
   "metadata": {},
   "outputs": [
    {
     "data": {
      "text/plain": [
       "<AxesSubplot:xlabel='Year'>"
      ]
     },
     "execution_count": 80,
     "metadata": {},
     "output_type": "execute_result"
    },
    {
     "data": {
      "image/png": "[encoded data removed]",
      "text/plain": [
       "<Figure size 576x576 with 1 Axes>"
      ]
     },
     "metadata": {
      "needs_background": "light"
     },
     "output_type": "display_data"
    }
   ],
   "source": [
    "s_plot2.plot(kind = 'bar',x = 'Year',y = 'Value',figsize = (8,8),color = 'r')"
   ]
  },
  {
   "cell_type": "code",
   "execution_count": 82,
   "id": "73e49586",
   "metadata": {},
   "outputs": [
    {
     "data": {
      "text/plain": [
       "<AxesSubplot:xlabel='Year'>"
      ]
     },
     "execution_count": 82,
     "metadata": {},
     "output_type": "execute_result"
    },
    {
     "data": {
      "image/png": "[encoded data removed]",
      "text/plain": [
       "<Figure size 576x576 with 1 Axes>"
      ]
     },
     "metadata": {
      "needs_background": "light"
     },
     "output_type": "display_data"
    }
   ],
   "source": [
    "p_plot2.plot(kind = 'bar',x = 'Year',y = 'Value',figsize = (8,8),color = 'r')"
   ]
  },
  {
   "cell_type": "code",
   "execution_count": 92,
   "id": "d120f780",
   "metadata": {},
   "outputs": [
    {
     "data": {
      "image/png": "[encoded data removed]",
      "text/plain": [
       "<Figure size 432x288 with 1 Axes>"
      ]
     },
     "metadata": {
      "needs_background": "light"
     },
     "output_type": "display_data"
    }
   ],
   "source": [
    "x_axis = np.arange(len(p_plot2))\n",
    "plt.bar(x_axis - 0.2,p_plot2[\"Value\"],0.4,label = \"production value\")\n",
    "plt.bar(x_axis + 0.2,s_plot2[\"Value\"],0.4,label = \"supply value\")\n",
    "plt.xticks(x_axis,p_plot2[\"Year\"])\n",
    "plt.xlabel(\"Year\")\n",
    "plt.ylabel(\"Value\")\n",
    "plt.legend()\n",
    "plt.show()"
   ]
  }
 ],
 "metadata": {
  "kernelspec": {
   "display_name": "Python 3 (ipykernel)",
   "language": "python",
   "name": "python3"
  },
  "language_info": {
   "codemirror_mode": {
    "name": "ipython",
    "version": 3
   },
   "file_extension": ".py",
   "mimetype": "text/x-python",
   "name": "python",
   "nbconvert_exporter": "python",
   "pygments_lexer": "ipython3",
   "version": "3.9.7"
  }
 },
 "nbformat": 4,
 "nbformat_minor": 5
}
